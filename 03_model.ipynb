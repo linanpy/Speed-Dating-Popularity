{
 "cells": [
  {
   "cell_type": "code",
   "execution_count": null,
   "metadata": {},
   "outputs": [],
   "source": [
    "import pandas as pd\n",
    "import numpy as np\n",
    "\n",
    "import seaborn as sns\n",
    "import matplotlib.pyplot as plt\n",
    "\n",
    "from collections import OrderedDict\n",
    "from sklearn.linear_model import LogisticRegression\n",
    "from sklearn.model_selection import train_test_split\n",
    "from sklearn.metrics import f1_score\n",
    "\n",
    "import statsmodels.api as sm\n",
    "import statsmodels.formula.api as smf\n",
    "import patsy\n",
    "import scipy.stats as stats\n",
    "\n",
    "\n",
    "from sklearn.model_selection import train_test_split, RandomizedSearchCV, GridSearchCV\n",
    "from sklearn import preprocessing\n",
    "from sklearn.linear_model import LinearRegression, Ridge, RidgeCV\n",
    "from sklearn.preprocessing import StandardScaler, PolynomialFeatures, scale\n",
    "from sklearn import metrics\n",
    "from sklearn.metrics import mean_squared_error, precision_score, \\\n",
    "    recall_score, confusion_matrix, classification_report, \\\n",
    "    accuracy_score, f1_score\n",
    "from sklearn.ensemble import RandomForestClassifier\n",
    "from sklearn.ensemble import GradientBoostingClassifier\n",
    "%matplotlib inline"
   ]
  },
  {
   "cell_type": "markdown",
   "metadata": {},
   "source": [
    "### OLS model"
   ]
  },
  {
   "cell_type": "code",
   "execution_count": null,
   "metadata": {},
   "outputs": [],
   "source": [
    "X_ols = df1[['gender', 'age', 'race', 'imprace', 'imprelig', 'goal', 'date', 'go_out', 'career_c', 'sports',\n",
    "'tvsports','exercise','dining', 'hiking','gaming','clubbing','reading','art', 'tv','theater','movies','shopping','yoga', 'exphappy', 'attr3_1','sinc3_1','intel3_1','fun3_1','amb3_1','match_es']]\n",
    "y_ols = df1.popular\n",
    "traits = sm.OLS(y_ols, X_ols)\n",
    "results_traits = traits.fit()\n",
    "results_traits.summary()"
   ]
  },
  {
   "cell_type": "code",
   "execution_count": null,
   "metadata": {},
   "outputs": [],
   "source": [
    "df2 = df1.drop(['concerts', 'museums', 'music'], axis=1)"
   ]
  },
  {
   "cell_type": "code",
   "execution_count": null,
   "metadata": {},
   "outputs": [],
   "source": [
    "#PICKLE\n",
    "df2.to_pickle(\"./df2.pkl\")"
   ]
  },
  {
   "cell_type": "markdown",
   "metadata": {},
   "source": [
    "### Logistic Regression"
   ]
  },
  {
   "cell_type": "code",
   "execution_count": null,
   "metadata": {},
   "outputs": [],
   "source": [
    "#baselining \n",
    "X=df2.iloc[:,0:30]\n",
    "y=df2['popular']\n",
    "X_train, X_test, y_train, y_test = train_test_split(X, y, test_size=0.2, random_state=42, stratify=y)\n",
    "# logistic regression classification model\n",
    "model = LogisticRegression(C=3, random_state=42)\n",
    "lrc = model.fit(X_train, y_train)\n",
    "predict_train_lrc = lrc.predict(X_train)\n",
    "predict_test_lrc = lrc.predict(X_test)\n",
    "print('Training Accuracy:', metrics.accuracy_score(y_train, predict_train_lrc))\n",
    "print('Validation Accuracy:', metrics.accuracy_score(y_test, predict_test_lrc))\n",
    "print(f1_score(lrc.predict(X_test), y_test))"
   ]
  },
  {
   "cell_type": "code",
   "execution_count": null,
   "metadata": {},
   "outputs": [],
   "source": [
    "#further feature selection  \n",
    "X=df2[['gender','date', 'goal', 'attr3_1','exphappy','theater', 'art', 'reading', 'match_es', 'age', 'imprace']]\n",
    "#'imprace', 'imprelig', 'from', 'goal', 'date', 'go_out', 'career_c', 'sports',\n",
    "#'tvsports','exercise','dining','museums','art','hiking','gaming','clubbing','reading','tv','theater','movies','concerts','music','shopping','yoga', 'exphappy', 'attr3_1','sinc3_1',\n",
    "#'fun3_1','intel3_1', 'match_es'\n",
    "y=df2['popular']\n",
    "X_train, X_test, y_train, y_test = train_test_split(X, y, test_size=0.2, random_state=42, stratify=y)\n",
    "# logistic regression classification model\n",
    "model = LogisticRegression(C= 1, penalty = 'l2', random_state=42)\n",
    "lrc = model.fit(X_train, y_train)\n",
    "predict_train_lrc = lrc.predict(X_train)\n",
    "predict_test_lrc = lrc.predict(X_test)\n",
    "print('Training Accuracy:', metrics.accuracy_score(y_train, predict_train_lrc))\n",
    "print('Validation Accuracy:', metrics.accuracy_score(y_test, predict_test_lrc))\n",
    "print(f1_score(lrc.predict(X_test), y_test))"
   ]
  },
  {
   "cell_type": "code",
   "execution_count": null,
   "metadata": {},
   "outputs": [],
   "source": [
    "#testing features \n",
    "X=df2[['gender', 'go_out', 'dining', 'fun3_1']]\n",
    "#'imprace', 'imprelig', 'from', 'goal', 'date', 'go_out', 'career_c', 'sports',\n",
    "#'tvsports','exercise','dining','museums','art','hiking','gaming','clubbing','reading','tv','theater','movies','concerts','music','shopping','yoga', 'exphappy', 'attr3_1','sinc3_1',\n",
    "#'fun3_1','intel3_1', 'match_es'\n",
    "y=df2['popular']\n",
    "X_train, X_test, y_train, y_test = train_test_split(X, y, test_size=0.2, random_state=42, stratify=y)\n",
    "# logistic regression classification model\n",
    "model = LogisticRegression(C=1.0, class_weight=None, dual=False,fit_intercept=True, solver='lbfgs',tol=0.0001,verbose=0,warm_start=False)\n",
    "lrc = model.fit(X_train, y_train)\n",
    "predict_train_lrc = lrc.predict(X_train)\n",
    "predict_test_lrc = lrc.predict(X_test)\n",
    "print('Training Accuracy:', metrics.accuracy_score(y_train, predict_train_lrc))\n",
    "print('Validation Accuracy:', metrics.accuracy_score(y_test, predict_test_lrc))\n",
    "print(f1_score(lrc.predict(X_test), y_test))"
   ]
  },
  {
   "cell_type": "markdown",
   "metadata": {},
   "source": [
    "### Random Forest"
   ]
  },
  {
   "cell_type": "code",
   "execution_count": null,
   "metadata": {},
   "outputs": [],
   "source": [
    "#random forest\n",
    "model = RandomForestClassifier(bootstrap=True,\n",
    " criterion = 'entropy',\n",
    " max_depth = 5,\n",
    " max_features = 'auto',\n",
    " max_leaf_nodes= None,\n",
    " min_impurity_decrease= 0.0,\n",
    " min_impurity_split= None,\n",
    " min_samples_leaf= 1,\n",
    " min_samples_split= 2,\n",
    " min_weight_fraction_leaf= 0.0,\n",
    " n_estimators= 1000,\n",
    " n_jobs= 1,\n",
    " oob_score= False,\n",
    " random_state= 42,\n",
    " verbose= 0,\n",
    " warm_start= False)\n",
    "#n_estimators = 1000, max_depth= 5, criterion='entropy'\n",
    "rf_model = model.fit(X_train, y_train)\n",
    "predict_train_rf = rf_model.predict(X_train)\n",
    "predict_test_rf = rf_model.predict(X_test)\n",
    "print('Training Accuracy:', metrics.accuracy_score(y_train, predict_train_rf))\n",
    "print('Validation Accuracy:', metrics.accuracy_score(y_test, predict_test_rf))\n",
    "print(f1_score(rf_model.predict(X_test), y_test))"
   ]
  },
  {
   "cell_type": "code",
   "execution_count": null,
   "metadata": {},
   "outputs": [],
   "source": [
    "C = np.logspace(1,200)\n",
    "#penalty = ['l1', 'l2']\n",
    "hyperparameters = dict(C=C, penalty=penalty)\n",
    "research = RandomizedSearchCV(model, hyperparameters, n_iter=100, random_state=41)\n",
    "research.fit(X,y)\n",
    "print(research.best_params_)"
   ]
  },
  {
   "cell_type": "code",
   "execution_count": null,
   "metadata": {},
   "outputs": [],
   "source": [
    "model = RandomForestClassifier(n_estimators = 1000, max_depth= 5, criterion='entropy')\n",
    "rf_model = model.fit(X_train, y_train)\n",
    "predict_train_rf = rf_model.predict(X_train)\n",
    "predict_test_rf = rf_model.predict(X_test)\n",
    "print('Training Accuracy:', metrics.accuracy_score(y_train, predict_train_rf))\n",
    "print('Validation Accuracy:', metrics.accuracy_score(y_test, predict_test_rf))\n",
    "print(f1_score(rf_model.predict(X_test), y_test))"
   ]
  },
  {
   "cell_type": "markdown",
   "metadata": {},
   "source": [
    "### XGB"
   ]
  },
  {
   "cell_type": "code",
   "execution_count": null,
   "metadata": {},
   "outputs": [],
   "source": [
    "model = GradientBoostingClassifier(n_estimators=150, learning_rate = 0.5, criterion='friedman_mse', max_depth=3)\n",
    "xgb_model = model.fit(X_train, y_train)\n",
    "predict_train_xgb = xgb_model.predict(X_train)\n",
    "predict_test_xgb = xgb_model.predict(X_test)\n",
    "print('Training Accuracy:', metrics.accuracy_score(y_train, predict_train_xgb))\n",
    "print('Validation Accuracy:', metrics.accuracy_score(y_test, predict_test_xgb))\n",
    "print(f1_score(xgb_model.predict(X_test), y_test))"
   ]
  }
 ],
 "metadata": {
  "kernelspec": {
   "display_name": "Python [conda env:metis] *",
   "language": "python",
   "name": "conda-env-metis-py"
  },
  "language_info": {
   "codemirror_mode": {
    "name": "ipython",
    "version": 3
   },
   "file_extension": ".py",
   "mimetype": "text/x-python",
   "name": "python",
   "nbconvert_exporter": "python",
   "pygments_lexer": "ipython3",
   "version": "3.7.4"
  }
 },
 "nbformat": 4,
 "nbformat_minor": 4
}
